{
 "cells": [
  {
   "cell_type": "code",
   "execution_count": null,
   "id": "2b54e106",
   "metadata": {},
   "outputs": [],
   "source": []
  },
  {
   "cell_type": "code",
   "execution_count": 9,
   "id": "aee0bf7f",
   "metadata": {},
   "outputs": [],
   "source": [
    "import numpy as np\n",
    "import os\n",
    "import sys\n",
    "import urllib.request\n",
    "import tempfile\n",
    "import tarfile\n",
    "from pathlib import Path\n",
    "import dgl\n",
    "import torch\n"
   ]
  },
  {
   "cell_type": "code",
   "execution_count": 4,
   "id": "0af65c31",
   "metadata": {},
   "outputs": [
    {
     "name": "stdout",
     "output_type": "stream",
     "text": [
      "Done saving data into cached files.\n",
      "Done saving data into cached files.\n",
      "Done saving data into cached files.\n"
     ]
    }
   ],
   "source": [
    "actor = dgl.data.ActorDataset(force_reload=True)\n",
    "chameleon = dgl.data.ChameleonDataset(force_reload=True)\n",
    "squirrel = dgl.data.SquirrelDataset(force_reload=True)"
   ]
  },
  {
   "cell_type": "code",
   "execution_count": 6,
   "id": "caa7feb6",
   "metadata": {},
   "outputs": [],
   "source": [
    "A = actor[0].adjacency_matrix().to_dense()"
   ]
  },
  {
   "cell_type": "code",
   "execution_count": 12,
   "id": "170bb6e6",
   "metadata": {},
   "outputs": [
    {
     "name": "stdout",
     "output_type": "stream",
     "text": [
      "Reciprocity of Actor dataset: 0.09923332634542242\n",
      "Reciprocity of Chameleon dataset: 0.13032879975623943\n",
      "Reciprocity of Squirrel dataset: 0.08591579791130173\n",
      "Degree correlation of Actor dataset: 0.2130348499690641\n",
      "Degree correlation of Chameleon dataset: 0.3529220360075925\n",
      "Degree correlation of Squirrel dataset: 0.33288354086164884\n"
     ]
    }
   ],
   "source": [
    "def reciprocity(g):\n",
    "    \"\"\"\n",
    "    Compute the reciprocity of a directed graph.\n",
    "    The reciprocity of a directed graph is defined as the ratio of the number of edges\n",
    "    that are reciprocated to the total number of edges in the graph.\n",
    "    \"\"\"\n",
    "    num_edges = g.number_of_edges()\n",
    "    if num_edges == 0:\n",
    "        return 0.0\n",
    "    A = g.adjacency_matrix().to_dense()\n",
    "    \n",
    "    A_T = A.T\n",
    "    \n",
    "    \n",
    "    num_reciprocated_edges = torch.sum(A * A_T).item()/2\n",
    "    \n",
    "    \n",
    "    return num_reciprocated_edges / num_edges\n",
    "\n",
    "\n",
    "def degree_corr(g):\n",
    "    in_degrees = g.in_degrees()\n",
    "    out_degrees = g.out_degrees()\n",
    "    \n",
    "    #compute the correlation between in-degrees and out-degrees\n",
    "    corr = np.corrcoef(in_degrees.numpy(), out_degrees.numpy())[0, 1]\n",
    "    return corr\n",
    "\n",
    "reciprocity_actor = reciprocity(actor[0])\n",
    "reciprocity_chameleon = reciprocity(chameleon[0])\n",
    "reciprocity_squirrel = reciprocity(squirrel[0])\n",
    "\n",
    "print(f\"Reciprocity of Actor dataset: {reciprocity_actor}\")\n",
    "print(f\"Reciprocity of Chameleon dataset: {reciprocity_chameleon}\")\n",
    "print(f\"Reciprocity of Squirrel dataset: {reciprocity_squirrel}\")\n",
    "\n",
    "degree_corr_actor = degree_corr(actor[0])\n",
    "degree_corr_chameleon = degree_corr(chameleon[0])\n",
    "degree_corr_squirrel = degree_corr(squirrel[0])\n",
    "print(f\"Degree correlation of Actor dataset: {degree_corr_actor}\")\n",
    "print(f\"Degree correlation of Chameleon dataset: {degree_corr_chameleon}\")\n",
    "print(f\"Degree correlation of Squirrel dataset: {degree_corr_squirrel}\")"
   ]
  },
  {
   "cell_type": "code",
   "execution_count": null,
   "id": "53791da0",
   "metadata": {},
   "outputs": [],
   "source": []
  },
  {
   "cell_type": "code",
   "execution_count": 4,
   "id": "0b02ff88",
   "metadata": {},
   "outputs": [],
   "source": [
    "_DATA_URLS = {\n",
    "    \"squirrel_filtered\":\n",
    "        \"https://github.com/yandex-research/heterophilous-graphs/raw/main/data/squirrel_filtered_directed.npz\",\n",
    "    \"chameleon_filtered\":\n",
    "        \"https://github.com/yandex-research/heterophilous-graphs/raw/main/data/chameleon_filtered_directed.npz\",\n",
    "}"
   ]
  },
  {
   "cell_type": "code",
   "execution_count": 6,
   "id": "bde987db",
   "metadata": {},
   "outputs": [],
   "source": [
    "name = \"squirrel_filtered\"\n",
    "raw_dir = \"~/.dgl/filtered_heterophily\"\n",
    "name = name.lower()\n",
    "if name not in _DATA_URLS:\n",
    "    raise ValueError(f\"Unknown filtered dataset: {name}\")\n",
    "\n",
    "root = Path(raw_dir).expanduser()\n",
    "root.mkdir(parents=True, exist_ok=True)\n",
    "local_file = root / f\"{name}.npz\"\n",
    "\n",
    "# download once\n",
    "if not local_file.exists():\n",
    "    print(f\"→ downloading {name}...\")\n",
    "    urllib.request.urlretrieve(_DATA_URLS[name], local_file)"
   ]
  },
  {
   "cell_type": "code",
   "execution_count": 7,
   "id": "2c7a6e24",
   "metadata": {},
   "outputs": [],
   "source": [
    "data = np.load(local_file, allow_pickle=True)"
   ]
  },
  {
   "cell_type": "code",
   "execution_count": 17,
   "id": "a204075c",
   "metadata": {},
   "outputs": [],
   "source": [
    "num_nodes = data['node_features'].shape[0]"
   ]
  },
  {
   "cell_type": "code",
   "execution_count": 35,
   "id": "3fbf9d14",
   "metadata": {},
   "outputs": [],
   "source": [
    "u,v = data['edges'].T"
   ]
  },
  {
   "cell_type": "code",
   "execution_count": 36,
   "id": "9226a707",
   "metadata": {},
   "outputs": [],
   "source": [
    "#to numpy matrix\n",
    "A = np.zeros((num_nodes, num_nodes), dtype=np.float32)\n",
    "for i in range(len(u)):\n",
    "    A[u[i], v[i]] = 1"
   ]
  },
  {
   "cell_type": "code",
   "execution_count": 37,
   "id": "55ab5324",
   "metadata": {},
   "outputs": [
    {
     "data": {
      "text/plain": [
       "0.9884987622753089"
      ]
     },
     "execution_count": 37,
     "metadata": {},
     "output_type": "execute_result"
    }
   ],
   "source": [
    "(A.T==A).mean()  # check if the graph is undirected"
   ]
  },
  {
   "cell_type": "code",
   "execution_count": 38,
   "id": "2acca334",
   "metadata": {},
   "outputs": [
    {
     "data": {
      "text/plain": [
       "(36163.0, 29695.0)"
      ]
     },
     "execution_count": 38,
     "metadata": {},
     "output_type": "execute_result"
    }
   ],
   "source": [
    "np.triu(A).sum(),np.tril(A).sum()  # check if the graph is directed"
   ]
  },
  {
   "cell_type": "code",
   "execution_count": null,
   "id": "60084cbb",
   "metadata": {},
   "outputs": [],
   "source": []
  }
 ],
 "metadata": {
  "kernelspec": {
   "display_name": "Python 3",
   "language": "python",
   "name": "python3"
  },
  "language_info": {
   "codemirror_mode": {
    "name": "ipython",
    "version": 3
   },
   "file_extension": ".py",
   "mimetype": "text/x-python",
   "name": "python",
   "nbconvert_exporter": "python",
   "pygments_lexer": "ipython3",
   "version": "3.10.12"
  }
 },
 "nbformat": 4,
 "nbformat_minor": 5
}
